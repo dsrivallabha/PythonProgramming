{
 "cells": [
  {
   "cell_type": "code",
   "execution_count": 1,
   "metadata": {},
   "outputs": [],
   "source": [
    "import numpy as np\n",
    "import timeit"
   ]
  },
  {
   "cell_type": "code",
   "execution_count": 2,
   "metadata": {},
   "outputs": [],
   "source": [
    "# Merge Sort\n",
    "def mergesort(array):\n",
    "    if len(array) > 1:\n",
    "        mid = len(array)//2\n",
    "        L = array[:mid]\n",
    "        R = array[mid:]\n",
    "        \n",
    "        mergesort(L)\n",
    "        mergesort(R)\n",
    "        \n",
    "        i=j=k=0\n",
    "        \n",
    "        while (i<len(L)) & (j < len(R)):\n",
    "            if (L[i] < R[j]):\n",
    "                array[k] = L[i]\n",
    "                i+=1\n",
    "            else:\n",
    "                array[k] = R[j]\n",
    "                j+=1\n",
    "            k +=1\n",
    "            \n",
    "            # if any items are left out\n",
    "            while (i < len(L)):\n",
    "                array[k] = L[i]\n",
    "                i+=1\n",
    "                k+=1\n",
    "                \n",
    "            # if any items are left out in the right array\n",
    "            while (j < len(R)):\n",
    "                array[k] = R[j]\n",
    "                j+=1\n",
    "                k+=1\n",
    "\n"
   ]
  },
  {
   "cell_type": "code",
   "execution_count": 3,
   "metadata": {},
   "outputs": [],
   "source": [
    "# Heap Sort\n",
    "def heapify(array, n, i):\n",
    "    largest = i\n",
    "    \n",
    "    l = 2*i + 1\n",
    "    r = 2*i + 2\n",
    "    #print (i, l, r)\n",
    "    \n",
    "    # check left child\n",
    "    if (l < n and array[l] > array[largest]):\n",
    "        largest = l\n",
    "    \n",
    "    if (r < n and array[r] > array[largest]):\n",
    "        largest = r\n",
    "    \n",
    "    if (largest != i):\n",
    "        array[i], array[largest] = array[largest], array[i]\n",
    "        heapify(array, n, largest)        \n",
    "        \n",
    "def heapsort(array):\n",
    "    n = len(array)\n",
    "    \n",
    "    for i in range(n//2-1, -1, -1):\n",
    "        heapify(array, n, i)\n",
    "        \n",
    "    for i in range(n-1, -1, -1):\n",
    "        array[0], array[i] = array[i], array[0] \n",
    "        heapify(array, i, 0)      "
   ]
  },
  {
   "cell_type": "code",
   "execution_count": 4,
   "metadata": {},
   "outputs": [],
   "source": [
    "# Bubble sort\n",
    "def bubblesort(array):\n",
    "    n = len(array)\n",
    "    for i in range(n):\n",
    "        for j in range(n-i-1):\n",
    "            if (array[j] > array[j+1]):\n",
    "                array[j], array[j+1] = array[j+1], array[j] "
   ]
  },
  {
   "cell_type": "code",
   "execution_count": 5,
   "metadata": {},
   "outputs": [
    {
     "name": "stdout",
     "output_type": "stream",
     "text": [
      "[10, 30, 40, 50, 70, 80, 90]\n"
     ]
    }
   ],
   "source": [
    "#def partition(array, start, end):\n",
    "def partition(start, end, array):\n",
    "    pivot_index = end\n",
    "    pivot = array[pivot_index]\n",
    "    #print (pivot, pivot_index)\n",
    "    \n",
    "    i = 0\n",
    "    j = 0\n",
    "    while (j < end):\n",
    "        if (array[j] < pivot):\n",
    "            array[i], array[j] = array[j], array[i]\n",
    "            i+= 1\n",
    "        #print (j, i, array)\n",
    "        j+=1\n",
    "        \n",
    "    # exchange the pivot and last element\n",
    "    array[i], array[pivot_index] = array[pivot_index], array[i]\n",
    "    #print (array)\n",
    "    return i\n",
    "\n",
    "def quicksort(start, end, array):\n",
    "    #print ('start and end are', start, end)\n",
    "    \n",
    "    if (start < end):       \n",
    "        p = partition(start, end, array)\n",
    "        #print (p)\n",
    "        quicksort(start, p-1, array)\n",
    "        quicksort(p+1, end, array)\n",
    "    \n",
    "    #print (array)\n",
    "\n",
    "ab  = [10, 80, 30, 90, 40, 50, 70]\n",
    "quicksort(0, len(ab)-1, ab)\n",
    "print (ab)"
   ]
  },
  {
   "cell_type": "code",
   "execution_count": 6,
   "metadata": {},
   "outputs": [],
   "source": [
    "def intia():\n",
    "    a = [9,8,7,623,34545,3100, 45, -53232, 54, 232, 214, 64232, -45232]\n",
    "    return a\n",
    "\n",
    "def testassignment():\n",
    "    a = intia()\n",
    "    \n",
    "def testmergesort():\n",
    "    \n",
    "    a = intia()\n",
    "    mergesort(a)\n",
    "    \n",
    "def testheapsort():\n",
    "    a = intia()\n",
    "    heapsort(a)\n",
    "    \n",
    "def testbubblesort():\n",
    "    a = intia()\n",
    "    bubblesort(a)\n",
    "\n",
    "def testquicksort():\n",
    "    a = intia()\n",
    "    quicksort(0, len(a)-1, a)\n",
    "    "
   ]
  },
  {
   "cell_type": "code",
   "execution_count": 7,
   "metadata": {},
   "outputs": [
    {
     "name": "stdout",
     "output_type": "stream",
     "text": [
      "[-53232, -45232, 7, 8, 9, 45, 54, 214, 232, 623, 3100, 34545, 64232]\n"
     ]
    }
   ],
   "source": [
    "b = intia()\n",
    "quicksort(0, len(b)-1, b)\n",
    "print (b)"
   ]
  },
  {
   "cell_type": "code",
   "execution_count": 8,
   "metadata": {},
   "outputs": [
    {
     "name": "stdout",
     "output_type": "stream",
     "text": [
      "checking for n=1000 rounds\n",
      "assignment time 0.0002671999999996899\n",
      "mergesort time 0.020857299999999412\n",
      "heapsort time 0.020602800000002475\n",
      "bubblesort time 0.014764299999999508\n",
      "quicksort time 0.015378800000000581\n"
     ]
    }
   ],
   "source": [
    "\n",
    "print ('checking for n=1000 rounds')\n",
    "print ('assignment time', timeit.timeit(stmt = testassignment, number=1000))\n",
    "print ('mergesort time', timeit.timeit(stmt = testmergesort, number=1000))\n",
    "print ('heapsort time', timeit.timeit(stmt = testheapsort, number=1000))\n",
    "print ('bubblesort time', timeit.timeit(stmt = testbubblesort, number=1000))\n",
    "print ('quicksort time', timeit.timeit(stmt = testquicksort, number=1000))"
   ]
  },
  {
   "cell_type": "code",
   "execution_count": 9,
   "metadata": {},
   "outputs": [],
   "source": [
    "at = []\n",
    "ms = []\n",
    "hs = []\n",
    "bs = []\n",
    "qs = []\n",
    "\n",
    "for i in range(100):\n",
    "    at.append(timeit.timeit(stmt = testassignment, number=1000))\n",
    "    ms.append(timeit.timeit(stmt = testmergesort, number=1000))\n",
    "    hs.append(timeit.timeit(stmt = testheapsort, number=1000))\n",
    "    bs.append(timeit.timeit(stmt = testbubblesort, number=1000))\n",
    "    qs.append(timeit.timeit(stmt = testquicksort, number=1000))"
   ]
  },
  {
   "cell_type": "code",
   "execution_count": 10,
   "metadata": {},
   "outputs": [],
   "source": [
    "import matplotlib.pyplot as plt"
   ]
  },
  {
   "cell_type": "code",
   "execution_count": 11,
   "metadata": {},
   "outputs": [
    {
     "name": "stdout",
     "output_type": "stream",
     "text": [
      "0.000247976000000385 0.023589451999999688 0.01802064799999943 0.024139721999999964 0.01876018400000028\n"
     ]
    }
   ],
   "source": [
    "print (np.mean(at), np.mean(hs), np.mean(bs), np.mean(ms),  np.mean(qs))"
   ]
  },
  {
   "cell_type": "code",
   "execution_count": null,
   "metadata": {},
   "outputs": [],
   "source": []
  }
 ],
 "metadata": {
  "kernelspec": {
   "display_name": "Python 3",
   "language": "python",
   "name": "python3"
  },
  "language_info": {
   "codemirror_mode": {
    "name": "ipython",
    "version": 3
   },
   "file_extension": ".py",
   "mimetype": "text/x-python",
   "name": "python",
   "nbconvert_exporter": "python",
   "pygments_lexer": "ipython3",
   "version": "3.7.6"
  }
 },
 "nbformat": 4,
 "nbformat_minor": 4
}
