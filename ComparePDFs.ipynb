{
 "cells": [
  {
   "cell_type": "code",
   "execution_count": 10,
   "id": "9ffc74e9-68c6-4a22-b4a6-48503db668ce",
   "metadata": {},
   "outputs": [],
   "source": [
    "import hashlib\n",
    "from difflib import SequenceMatcher\n",
    "from PIL import Image, ImageChops\n",
    "from pdf2image import convert_from_path"
   ]
  },
  {
   "cell_type": "code",
   "execution_count": 25,
   "id": "e4f9ce5e-3607-4f45-bab7-38bd57079a86",
   "metadata": {},
   "outputs": [],
   "source": [
    "# Step 1: Simple comparison of Hashes"
   ]
  },
  {
   "cell_type": "code",
   "execution_count": 11,
   "id": "67526de6-4382-423d-af23-3e750a1d3a77",
   "metadata": {},
   "outputs": [],
   "source": [
    "# Compare Hashes\n",
    "def hash_file(fileName1, fileName2):\n",
    "  \n",
    "    # Use hashlib to store the hash of a file\n",
    "    h1 = hashlib.sha1()\n",
    "    h2 = hashlib.sha1()\n",
    "  \n",
    "    with open(fileName1, \"rb\") as file:\n",
    "  \n",
    "        # Use file.read() to read the size of file\n",
    "        # and read the file in small chunks\n",
    "        # because we cannot read the large files.\n",
    "        chunk = 0\n",
    "        while chunk != b'':\n",
    "            chunk = file.read(1024)\n",
    "            h1.update(chunk)\n",
    "              \n",
    "    with open(fileName2, \"rb\") as file:\n",
    "  \n",
    "        # Use file.read() to read the size of file a\n",
    "        # and read the file in small chunks\n",
    "        # because we cannot read the large files.\n",
    "        chunk = 0\n",
    "        while chunk != b'':\n",
    "            chunk = file.read(1024)\n",
    "            h2.update(chunk)\n",
    "  \n",
    "    # hexdigest() is of 160 bits\n",
    "    return h1.hexdigest(), h2.hexdigest()\n",
    "\n"
   ]
  },
  {
   "cell_type": "code",
   "execution_count": 12,
   "id": "05f8f576-fece-4cf7-b991-ff21bc072990",
   "metadata": {},
   "outputs": [],
   "source": [
    "def comparePDFhashes(file1, file2):\n",
    "    msg1, msg2 = hash_file(file1, file2)\n",
    "\n",
    "    if(msg1 != msg2):\n",
    "        print(\"These files are not identical\")\n",
    "    else:\n",
    "        print(\"These files are identical\")"
   ]
  },
  {
   "cell_type": "code",
   "execution_count": 13,
   "id": "af7edddb-6f17-44b4-9595-22ae0f269668",
   "metadata": {},
   "outputs": [
    {
     "name": "stdout",
     "output_type": "stream",
     "text": [
      "These files are not identical\n"
     ]
    }
   ],
   "source": [
    "comparePDFhashes('DSriVallabha-Resume.pdf', 'DSVResume-OverLeaf.pdf')"
   ]
  },
  {
   "cell_type": "code",
   "execution_count": 26,
   "id": "8078e07d-eb44-4c45-8640-5e3984e4f81a",
   "metadata": {},
   "outputs": [],
   "source": [
    "# Step 2: Convert file to image and compare differences"
   ]
  },
  {
   "cell_type": "code",
   "execution_count": 14,
   "id": "94c4d4f3-acb8-4c24-97d4-6e9389b2497c",
   "metadata": {},
   "outputs": [],
   "source": [
    "def PDF2Image(filename):    \n",
    "    \n",
    "    lastname = filename.split('/')[-1].split('.')[0]\n",
    "    print (filename, lastname)\n",
    "    # Store Pdf with convert_from_path function\n",
    "    pglist = []\n",
    "    images = convert_from_path(filename)\n",
    "    for i in range(len(images)):\n",
    "\n",
    "        pgname = lastname + '_page'+ str(i).zfill(2) +'.jpg'\n",
    "        # Save pages as images in the pdf\n",
    "        images[i].save(pgname, 'JPEG')\n",
    "        pglist.append(pgname)\n",
    "    return pglist"
   ]
  },
  {
   "cell_type": "code",
   "execution_count": 17,
   "id": "7394d0e3-29f5-4650-850e-c3892e3cfdaa",
   "metadata": {},
   "outputs": [],
   "source": [
    "def diffbetweenimages(il1, il2):\n",
    "    \n",
    "    assert(len(il1) == len(il2)),'both lists are not of equal length'\n",
    "    count = 1\n",
    "    for x, y in zip(il1, il2):\n",
    "        # assign images\n",
    "        img1 = Image.open(x)\n",
    "        img2 = Image.open(y)\n",
    "\n",
    "        # finding difference\n",
    "        diff = ImageChops.difference(img1, img2)\n",
    "        \n",
    "        # showing the difference\n",
    "        #diff.show()\n",
    "        diff.save('diff_page_'+str(count) + '.jpg')\n",
    "        count+=1"
   ]
  },
  {
   "cell_type": "code",
   "execution_count": 27,
   "id": "90839ad0-7e7e-43b2-9f9a-5631b1d9ac97",
   "metadata": {},
   "outputs": [],
   "source": [
    "# Step 3: Putting the two together, and checking\n",
    "# This function will check both : hashes and image differences between files and save them to disk"
   ]
  },
  {
   "cell_type": "code",
   "execution_count": 28,
   "id": "0e768a6e-c8cb-4a41-9b27-9c96a08e9fb9",
   "metadata": {},
   "outputs": [],
   "source": [
    "def compareTwoPDFs(file1, file2):\n",
    "    print ('File names are {}, {}'.format(file1, file2))\n",
    "    \n",
    "    print ('Checking hash sums of the two files')\n",
    "    comparePDFhashes(file1, file2)\n",
    "    \n",
    "    F1p = PDF2Image(file1)\n",
    "    F2p = PDF2Image(file2)\n",
    "    \n",
    "    diffbetweenimages(F1p, F2p)"
   ]
  },
  {
   "cell_type": "code",
   "execution_count": 23,
   "id": "e518aab3-cb38-4019-ae98-6240ca783b55",
   "metadata": {},
   "outputs": [
    {
     "name": "stdout",
     "output_type": "stream",
     "text": [
      "File names are DSVresume.pdf, DSVResume-OverLeaf.pdf\n",
      "Checking hash sums of the two files\n",
      "These files are not identical\n",
      "DSVresume.pdf DSVresume\n",
      "DSVResume-OverLeaf.pdf DSVResume-OverLeaf\n"
     ]
    }
   ],
   "source": [
    "compareTwoPDFs('DSVResume1.pdf', 'DSVResume2.pdf')"
   ]
  },
  {
   "cell_type": "code",
   "execution_count": null,
   "id": "fd5ffd7f-6c5a-4171-a45e-463338b2ae6f",
   "metadata": {},
   "outputs": [],
   "source": []
  }
 ],
 "metadata": {
  "kernelspec": {
   "display_name": "Python 3",
   "language": "python",
   "name": "python3"
  },
  "language_info": {
   "codemirror_mode": {
    "name": "ipython",
    "version": 3
   },
   "file_extension": ".py",
   "mimetype": "text/x-python",
   "name": "python",
   "nbconvert_exporter": "python",
   "pygments_lexer": "ipython3",
   "version": "3.8.8"
  }
 },
 "nbformat": 4,
 "nbformat_minor": 5
}
