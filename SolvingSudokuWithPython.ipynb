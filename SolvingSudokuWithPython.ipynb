{
 "metadata": {
  "name": "",
  "signature": "sha256:ddaf84ff599a692c6fcf40a69e221ffb5a21c3620213436ef7daa90f9986f7d3"
 },
 "nbformat": 3,
 "nbformat_minor": 0,
 "worksheets": [
  {
   "cells": [
    {
     "cell_type": "heading",
     "level": 1,
     "metadata": {},
     "source": [
      "Sudoku - A python program for solving the puzzle"
     ]
    },
    {
     "cell_type": "markdown",
     "metadata": {},
     "source": [
      "Sudoku is a popular number placement puzzle. A typical Sudoku consists of a 9X9 matrix of cells. Each 3X3 sub-matrix is referred to a 'box' and there are 3X3 such boxes in a 9X9 puzzle. \n",
      "\n",
      "The cells are partially filled, and the challenge is to complete the puzzle under the following constraints - A cell cannot have a number that is already present in any other cell that is in the \n",
      "    1. same 3X3 box.\n",
      "    2. same row\n",
      "    3. same column.\n",
      "\n",
      "Refer to this Wikipedia page for more information on Sudoku. (https://en.wikipedia.org/wiki/Sudoku) \n",
      "\n",
      "A program to solve for the Sudoku needs to follow the three rules mentioned above."
     ]
    },
    {
     "cell_type": "heading",
     "level": 2,
     "metadata": {},
     "source": [
      "Program Structure"
     ]
    },
    {
     "cell_type": "heading",
     "level": 3,
     "metadata": {},
     "source": [
      "Defining the class"
     ]
    },
    {
     "cell_type": "markdown",
     "metadata": {},
     "source": [
      "For the ease of programming, each cell is defined as a python class, that has the following properties - \n",
      "\n",
      "    a) i,j: which are the row and column coordinates of the cell.\n",
      "    b) val: which is the number filled/ to be filled in that cell\n",
      "    c) valset: this flag indicates whether the number is filled (this is 1 if the cell value is set, and -1 otherwise\n",
      "    d) xbox, ybox: coordinates of the box (3X3 submatrix) to which the cell belongs. these values can be computed on the fly, but are saved here to avoid repeated computations\n",
      "    e) pvlist: this is the list of possible values that can be present in a cell. At the start, each cell can have a value in the range [1,2,....9].\n",
      "\n",
      "The class is defined with a set of default values, and a function to initialize it. This is described in the cell below. "
     ]
    },
    {
     "cell_type": "code",
     "collapsed": false,
     "input": [
      "import numpy\n",
      "# Required class\n",
      "#define the class called sudoku cell\n",
      "class cell(object):\n",
      "    i = 0 #row coordinate\n",
      "    j = 0 #column coordinate\n",
      "    val = 0 #value of that cell\n",
      "    vset = 0 #value set flag\n",
      "    xbox = int(i/3) #xbox to which the cell belongs\n",
      "    ybox = int(j/3) #ybox to which the cell belogngs\n",
      "    pvlist = list(numpy.arange(1,10))\n",
      "    \n",
      "    \n",
      "    # The class \"constructor\" - It's actually an initializer \n",
      "    def __init__(self, i,j,val=None):\n",
      "        self.i = i\n",
      "        self.j = j\n",
      "        if (val == None):\n",
      "            self.val = -1\n",
      "            self.vset = -1\n",
      "        else:\n",
      "            self.val = val\n",
      "            self.vset = 1\n",
      "        self.xbox = int(i/3)\n",
      "        self.ybox = int(j/3)\n",
      "        self.pvlist = list(numpy.arange(1,10))\n",
      "\n",
      "def create_cell(i,j,val=None):\n",
      "    sudokucell = cell(i,j,val)\n",
      "    return sudokucell"
     ],
     "language": "python",
     "metadata": {},
     "outputs": []
    },
    {
     "cell_type": "heading",
     "level": 3,
     "metadata": {},
     "source": [
      "Functions required for Sudoku"
     ]
    },
    {
     "cell_type": "markdown",
     "metadata": {},
     "source": [
      "The logic for solving the Sudoku is described in the function below ('checkcells'). This function takes two inputs: the current cell and all the cells. It iterates over all the cells, and identifies cells that are in the same box / same row / same column of the current cell. For such cells, it reads the value in that cell, and drops that value from the pvlist for current cell.\n",
      "\n",
      "The puzzle is solved for the current cell if the pvlist for that cell reduces to a single entry, which is then assigned to the  val of that cell."
     ]
    },
    {
     "cell_type": "code",
     "collapsed": false,
     "input": [
      "def checkcells(currentcell, allcells):\n",
      "    '''\n",
      "    function to drop a value in the probable value list of a cell if \n",
      "    1.) it is in one of the cells in the same box\n",
      "    2.) it is in same column or same row in the entire sudoku\n",
      "    \n",
      "    '''\n",
      "    for cell in allcells:\n",
      "        if (cell!= currentcell):\n",
      "            \n",
      "            # part 1 - check cells in the same sqaure\n",
      "            if ((cell.xbox == currentcell.xbox) and (cell.ybox == currentcell.ybox)):\n",
      "                if (cell.val in currentcell.pvlist):\n",
      "                    currentcell.pvlist.remove(cell.val)\n",
      "\n",
      "            #part 2 - check in the row in entire sudoku\n",
      "            if (cell.i == currentcell.i):\n",
      "                if (cell.val in currentcell.pvlist):\n",
      "                    currentcell.pvlist.remove(cell.val)\n",
      "            \n",
      "            #part 3 - check in the columns in entire sudoku\n",
      "            if (cell.j == currentcell.j):\n",
      "                if (cell.val in currentcell.pvlist):\n",
      "                    currentcell.pvlist.remove(cell.val)\n",
      "                    \n",
      "    #if all the options are ruled out and only \n",
      "    if (len(currentcell.pvlist) == 1):\n",
      "        currentcell.val = currentcell.pvlist[0]\n",
      "        currentcell.vset = 1\n",
      "            \n",
      "    return(currentcell)"
     ],
     "language": "python",
     "metadata": {},
     "outputs": []
    },
    {
     "cell_type": "markdown",
     "metadata": {},
     "source": [
      "The following ('initialize_sudokucells') is a function to initialize a Sudoku puzzle. It takes in the number of rows/columns \n",
      "(n rows = n columns) and initialises nrowsXncolumn cells with default values"
     ]
    },
    {
     "cell_type": "code",
     "collapsed": false,
     "input": [
      "def initialize_sudokucells(nrows):\n",
      "    '''\n",
      "    function to initialize cells for sudoku (nrowsXnrows)\n",
      "    inputs: number of rows/columns\n",
      "    outputs: list with information of each cell, a total of nrows^2 cells\n",
      "    '''\n",
      "    sudokucells = []\n",
      "    for i  in range(nrows):\n",
      "        for j in range(nrows):\n",
      "            a = create_cell(i,j)\n",
      "            sudokucells.append(a)\n",
      "    return (sudokucells)"
     ],
     "language": "python",
     "metadata": {},
     "outputs": []
    },
    {
     "cell_type": "markdown",
     "metadata": {},
     "source": [
      "'read_values' function reads the cell entries (i,j, val) which are inputs to the program"
     ]
    },
    {
     "cell_type": "code",
     "collapsed": false,
     "input": [
      "def read_values(entries, sudokucells):\n",
      "    '''\n",
      "    read list of entries and fill up sudoku cells\n",
      "    '''\n",
      "    nmax = numpy.sqrt(len(sudokucells)) + 1\n",
      "    #print nmax\n",
      "    for e in entries:\n",
      "        #print e, type(e), (e>-1), (e<10)\n",
      "        if ((min(e) > -1) and (max(e)<nmax) and (e[2]>0)):\n",
      "            for cell in sudokucells:\n",
      "                if ((e[0] == cell.i) and (e[1] == cell.j)):\n",
      "                    cell.val = e[2]\n",
      "                    cell.vsat = 1\n",
      "                else:\n",
      "                    pass\n",
      "        else:\n",
      "            print ('tuple out of range, check inputs', e)\n",
      "            break\n",
      "            return(sudokucells)\n",
      "        \n",
      "    return (sudokucells)"
     ],
     "language": "python",
     "metadata": {},
     "outputs": []
    },
    {
     "cell_type": "markdown",
     "metadata": {},
     "source": [
      "The following function prints the Sudoku puzzle to screen in a formatted way."
     ]
    },
    {
     "cell_type": "code",
     "collapsed": false,
     "input": [
      "def printsudoku(acells):\n",
      "    '''\n",
      "    function to print the output of sudoku into an array\n",
      "    input: list of sudoku cells\n",
      "    '''\n",
      "    import pandas\n",
      "    from IPython.display import display\n",
      "    df = pandas.DataFrame(numpy.zeros((9,9)))\n",
      "    for cell in acells:\n",
      "        #print (cell.i, cell.j)\n",
      "        try:\n",
      "            df.iloc[cell.i, cell.j] = int(cell.val)\n",
      "        except:\n",
      "            pass\n",
      "    df[df<0] = '-'\n",
      "    pandas.options.display.float_format = '{:.0f}'.format\n",
      "    df.columns = (['c1','c2','c3','c4','c5','c6','c7','c8','c9'])\n",
      "    df.index = (['r1','r2','r3','r4','r5','r6','r7','r8','r9'])\n",
      "    display (df)\n",
      "    \n",
      "    return"
     ],
     "language": "python",
     "metadata": {},
     "outputs": []
    },
    {
     "cell_type": "heading",
     "level": 2,
     "metadata": {},
     "source": [
      "Start of the program"
     ]
    },
    {
     "cell_type": "code",
     "collapsed": false,
     "input": [
      "scells = initialize_sudokucells(9)\n",
      "type(scells)"
     ],
     "language": "python",
     "metadata": {},
     "outputs": []
    },
    {
     "cell_type": "code",
     "collapsed": false,
     "input": [
      "printsudoku(scells)"
     ],
     "language": "python",
     "metadata": {},
     "outputs": []
    },
    {
     "cell_type": "code",
     "collapsed": false,
     "input": [
      "entries = [(0,6,8), (1,0,8), (1,1,3), (1,3,6),(1,4,4), (2,0,2),(2,2,1),(2,5,5),(2,6,6),(2,8,9),(3,1,2),(3,3,1),\n",
      "           (3,4,8),(3,6,5), (3,8,3),(4,0,5),(4,2,6),(4,4,9),(4,6,7),(4,8,4),(5,0,3),(5,2,8),(5,4,7),(5,5,6),(5,7,2),\n",
      "           (6,0,4),(6,2,5),(6,3,7),(6,6,2),(6,8,8),(7,4,5),(7,5,8),(7,7,7),(7,8,6),(8,2,3)]"
     ],
     "language": "python",
     "metadata": {},
     "outputs": []
    },
    {
     "cell_type": "code",
     "collapsed": false,
     "input": [
      "sudokucells = read_values(entries, scells)"
     ],
     "language": "python",
     "metadata": {},
     "outputs": []
    },
    {
     "cell_type": "code",
     "collapsed": false,
     "input": [
      "printsudoku(sudokucells)"
     ],
     "language": "python",
     "metadata": {},
     "outputs": []
    },
    {
     "cell_type": "markdown",
     "metadata": {},
     "source": [
      "This is the main program. A flag is set to indicate the completion of iterations. And a counter is used to counter the number of iterations. Sudoku cells are declared as a list, to make iteration easy. If any of the cells has a vset of -1, indicating that the value is not yet set, the flag is set to zero, to continue the loop."
     ]
    },
    {
     "cell_type": "code",
     "collapsed": false,
     "input": [
      "flag  = 0\n",
      "nloop = 0\n",
      "while (flag == 0):\n",
      "    nloop += 1\n",
      "    flag = 1\n",
      "    for c in sudokucells:\n",
      "        if (c.vset == -1):\n",
      "            flag = 0\n",
      "            c = checkcells(c, sudokucells)\n",
      "            print c.pvlist\n",
      "    print 'nloop is ', nloop\n",
      "    print '~~~~~~~~~~~~~~~~~~~~~~~~~~~~~~~~~~~~~~~~~'\n",
      "    if (nloop > 100):\n",
      "        print 'too many loops, check initial conditions'\n",
      "        break"
     ],
     "language": "python",
     "metadata": {},
     "outputs": []
    },
    {
     "cell_type": "code",
     "collapsed": false,
     "input": [
      "printsudoku(sudokucells)"
     ],
     "language": "python",
     "metadata": {},
     "outputs": []
    },
    {
     "cell_type": "markdown",
     "metadata": {},
     "source": [
      "Please let me know if you find any bugs or errors. Thank you. "
     ]
    }
   ],
   "metadata": {}
  }
 ]
}