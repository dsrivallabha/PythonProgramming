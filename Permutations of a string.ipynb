{
 "metadata": {
  "name": "",
  "signature": "sha256:db99d8049e08b90434e47200f6fc40ee5b0fa86f451f28572fc4473cb0c00f8f"
 },
 "nbformat": 3,
 "nbformat_minor": 0,
 "worksheets": [
  {
   "cells": [
    {
     "cell_type": "heading",
     "level": 1,
     "metadata": {},
     "source": [
      "Program to return all the permutations of a string"
     ]
    },
    {
     "cell_type": "code",
     "collapsed": false,
     "input": [
      "import numpy, math"
     ],
     "language": "python",
     "metadata": {},
     "outputs": [],
     "prompt_number": 1
    },
    {
     "cell_type": "heading",
     "level": 3,
     "metadata": {},
     "source": [
      "Function"
     ]
    },
    {
     "cell_type": "code",
     "collapsed": false,
     "input": [
      "def returnperm(string):\n",
      "    '''\n",
      "    function to return permutations of a string\n",
      "    calls itself recursively, untill the string length becomes 2\n",
      "    '''\n",
      "    # retlist is a list of strings to be returned\n",
      "    retlist = []\n",
      "    \n",
      "    #find length of string\n",
      "    slen = len(string)\n",
      "    \n",
      "    #convert string to list of characters\n",
      "    slist = list(string)\n",
      "    \n",
      "    #take each element as first element, and create a new string\n",
      "    \n",
      "    #counter to fill the first element\n",
      "    counter1 = 0\n",
      "    \n",
      "    #loop over length of string, to pick the first element\n",
      "    for kk in range(slen):\n",
      "        # newstring is the shuffled string, initialize it to an empty list\n",
      "        newstring = []\n",
      "        \n",
      "        #first element is fc\n",
      "        fc = slist[counter1]\n",
      "        #this is appended to the newstring\n",
      "        newstring.append(fc)\n",
      "        \n",
      "        #remstring is list of all other characters, except fc        \n",
      "        remstring = [x for x in slist if x != fc]\n",
      "        \n",
      "        # if len of remstring =1, this is the last character, hence a shuffled string can be formed\n",
      "        if (len(remstring) == 1):\n",
      "            shufstring = ''.join(newstring+remstring)\n",
      "            #add this shuffled string to return list\n",
      "            retlist.append(shufstring)\n",
      "            \n",
      "        else:\n",
      "        # len of remstring is not 1, call the function recursively, to return a list of permutations\n",
      "            newlist = returnperm(remstring)\n",
      "            #create shuffled strings from each of the permutations of this partial string\n",
      "            for ii in newlist:\n",
      "                shufstring = fc+ ii\n",
      "                retlist.append(shufstring)\n",
      "                     \n",
      "        #update counter to fill choose the next element as the first element in the string\n",
      "        counter1 += 1\n",
      "    \n",
      "    return (retlist)   "
     ],
     "language": "python",
     "metadata": {},
     "outputs": [],
     "prompt_number": 2
    },
    {
     "cell_type": "heading",
     "level": 3,
     "metadata": {},
     "source": [
      "Input"
     ]
    },
    {
     "cell_type": "code",
     "collapsed": false,
     "input": [
      "string = 'abc'\n",
      "\n"
     ],
     "language": "python",
     "metadata": {},
     "outputs": [],
     "prompt_number": 3
    },
    {
     "cell_type": "code",
     "collapsed": false,
     "input": [
      "print 'length of string is', len(string)\n",
      "print 'number of permutations is', math.factorial(len(string))"
     ],
     "language": "python",
     "metadata": {},
     "outputs": [
      {
       "output_type": "stream",
       "stream": "stdout",
       "text": [
        "length of string is 3\n",
        "number of permutations is 6\n"
       ]
      }
     ],
     "prompt_number": 4
    },
    {
     "cell_type": "code",
     "collapsed": false,
     "input": [
      "permutations = returnperm(string)"
     ],
     "language": "python",
     "metadata": {},
     "outputs": [],
     "prompt_number": 5
    },
    {
     "cell_type": "code",
     "collapsed": false,
     "input": [
      "print 'number of permutations are', len(permutations)"
     ],
     "language": "python",
     "metadata": {},
     "outputs": [
      {
       "output_type": "stream",
       "stream": "stdout",
       "text": [
        "number of permutations are 6\n"
       ]
      }
     ],
     "prompt_number": 6
    },
    {
     "cell_type": "code",
     "collapsed": false,
     "input": [
      "print permutations"
     ],
     "language": "python",
     "metadata": {},
     "outputs": [
      {
       "output_type": "stream",
       "stream": "stdout",
       "text": [
        "['abc', 'acb', 'bac', 'bca', 'cab', 'cba']\n"
       ]
      }
     ],
     "prompt_number": 7
    },
    {
     "cell_type": "code",
     "collapsed": false,
     "input": [],
     "language": "python",
     "metadata": {},
     "outputs": []
    }
   ],
   "metadata": {}
  }
 ]
}